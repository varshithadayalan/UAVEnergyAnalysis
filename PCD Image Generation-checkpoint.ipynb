{
 "cells": [
  {
   "cell_type": "markdown",
   "id": "56bff8d2",
   "metadata": {},
   "source": [
    "# How to extract X, Y coordinates from pcd file and export to csv file"
   ]
  },
  {
   "cell_type": "code",
   "execution_count": 1,
   "id": "e914ec0e",
   "metadata": {},
   "outputs": [],
   "source": [
    "# pip install open3d"
   ]
  },
  {
   "cell_type": "code",
   "execution_count": 2,
   "id": "8cc7d2f1",
   "metadata": {
    "scrolled": true
   },
   "outputs": [],
   "source": [
    "# pip install --upgrade Flask"
   ]
  },
  {
   "cell_type": "code",
   "execution_count": 3,
   "id": "b10ae9b8",
   "metadata": {},
   "outputs": [],
   "source": [
    "# pip install pytest"
   ]
  },
  {
   "cell_type": "code",
   "execution_count": 4,
   "id": "b529faa7",
   "metadata": {
    "scrolled": true
   },
   "outputs": [
    {
     "name": "stdout",
     "output_type": "stream",
     "text": [
      "Jupyter environment detected. Enabling Open3D WebVisualizer.\n",
      "[Open3D INFO] WebRTC GUI backend enabled.\n",
      "[Open3D INFO] WebRTCWindowSystem: HTTP handshake server disabled.\n"
     ]
    }
   ],
   "source": [
    "# General library\n",
    "import os\n",
    "import numpy as np\n",
    "import pathlib\n",
    "from numpy import arange\n",
    "import pandas as pd\n",
    "import shutil\n",
    "import matplotlib.pyplot as plt\n",
    "import csv\n",
    "import math\n",
    "# Point Cloud Visualisation \n",
    "import open3d as o3d\n",
    "\n",
    "# time\n",
    "import time\n",
    "from datetime import date"
   ]
  },
  {
   "cell_type": "code",
   "execution_count": 5,
   "id": "6761f843",
   "metadata": {},
   "outputs": [],
   "source": [
    "parts_folder = 'PCD_Files_Flat Plate/'\n",
    "result_folder = 'Result_2_t7/'"
   ]
  },
  {
   "cell_type": "code",
   "execution_count": 6,
   "id": "0bd32255",
   "metadata": {
    "scrolled": true
   },
   "outputs": [
    {
     "name": "stdout",
     "output_type": "stream",
     "text": [
      "all_parts: ['2_t7_Sensor_1', '7_t7r_Sensor_1']\n",
      "Number of samples: 2\n"
     ]
    }
   ],
   "source": [
    "all_parts = sorted([j for j in os.listdir(parts_folder)])\n",
    "print('all_parts:', all_parts)\n",
    "print(\"Number of samples:\", len(all_parts))"
   ]
  },
  {
   "cell_type": "code",
   "execution_count": 7,
   "id": "9a77643f",
   "metadata": {},
   "outputs": [
    {
     "data": {
      "text/plain": [
       "'November01'"
      ]
     },
     "execution_count": 7,
     "metadata": {},
     "output_type": "execute_result"
    }
   ],
   "source": [
    "currentDate = date.today().strftime(\"%B%d\")\n",
    "currentDate"
   ]
  },
  {
   "cell_type": "markdown",
   "id": "fd3cf0f4",
   "metadata": {},
   "source": [
    "#### Create new folder to export files into the respective folder"
   ]
  },
  {
   "cell_type": "code",
   "execution_count": 8,
   "id": "17398ea8",
   "metadata": {},
   "outputs": [],
   "source": [
    "def create_folder(result_folder, part, file):\n",
    "    new_folder = result_folder + \"{}_{}_{}/\".format(part, str(file),str(currentDate))\n",
    "    if os.path.exists(new_folder):\n",
    "        print(\"File found in the directory\")\n",
    "    else:\n",
    "        os.mkdir(new_folder)\n",
    "        print(\"File not found in the directory\")\n",
    "    \n",
    "    return new_folder"
   ]
  },
  {
   "cell_type": "markdown",
   "id": "579ea911",
   "metadata": {},
   "source": [
    "#### Parameter variables to define the required points from pcd file"
   ]
  },
  {
   "attachments": {
    "X_Bit%20to%20mm_formula.png": {
     "image/png": "[encoded data removed]"
    }
   },
   "cell_type": "markdown",
   "id": "b19e0628",
   "metadata": {},
   "source": [
    "![X_Bit%20to%20mm_formula.png](attachment:X_Bit%20to%20mm_formula.png)"
   ]
  },
  {
   "attachments": {
    "Y_Bit%20to%20mm_formula.png": {
     "image/png": "[encoded data removed]"
    }
   },
   "cell_type": "markdown",
   "id": "5d3bf17d",
   "metadata": {},
   "source": [
    "![Y_Bit%20to%20mm_formula.png](attachment:Y_Bit%20to%20mm_formula.png)"
   ]
  },
  {
   "cell_type": "code",
   "execution_count": 9,
   "id": "e4569872",
   "metadata": {},
   "outputs": [],
   "source": [
    "bit_val = 400/(pow(2,20) - 1)               #(mm)"
   ]
  },
  {
   "cell_type": "markdown",
   "id": "bf6c581e",
   "metadata": {},
   "source": [
    "### Creating PCD plots for visualisation"
   ]
  },
  {
   "cell_type": "code",
   "execution_count": 10,
   "id": "81cdb99f",
   "metadata": {},
   "outputs": [],
   "source": [
    "def pcd_plots(x, y, EM, part, layer, filename, display):\n",
    "    cm = plt.cm.get_cmap('jet')\n",
    "\n",
    "    fig = plt.figure(dpi=300)\n",
    "    ax1 = fig.add_subplot(1,1,1)\n",
    "    plt.scatter(x, y, c=EM, cmap=cm, s=0.05, label='{}'.format(str(layer)))\n",
    "    plt.clim(700, 1100)\n",
    "    plt.colorbar(ax=ax1)\n",
    "    ax1.set_title(\"{}_layerthick of with num_of samples\".format(str(lay_name)))\n",
    "    ax1.set_xlabel(\"Number of X_mm in {} sample\".format(part))\n",
    "    ax1.set_ylabel(\"Number of Y_mm in {} sample\".format(part))\n",
    "#     ax1.legend()\n",
    "#     plt.grid()\n",
    "#     plt.text(np.mean(x), np.mean(y), '{}'.format(part[3:9]), fontsize = 12)\n",
    "    plot_folder = create_folder(result_folder, \"PCD_plots\", \"{}\".format(part))\n",
    "    plt.savefig(plot_folder+\"{} {}_{}_layerthick_{}.png\".format(part, layer_name, str(lay_name), filename), dpi=600)\n",
    "    if display == 'off':\n",
    "        plt.clf()\n",
    "    \n",
    "    if display == 'on':\n",
    "        plt.show()"
   ]
  },
  {
   "cell_type": "markdown",
   "id": "78a0cd33",
   "metadata": {},
   "source": [
    "### Customise layers for PCD visualisation"
   ]
  },
  {
   "cell_type": "code",
   "execution_count": 17,
   "id": "720a056f",
   "metadata": {
    "scrolled": true
   },
   "outputs": [
    {
     "name": "stdout",
     "output_type": "stream",
     "text": [
      "2_t7_Sensor_1\n",
      "0.21\n",
      "0.21.pcd\n",
      "Layer 0.21 Maximum 1010.0 Minimum 696.0\n",
      "--------------------------------------------------------------------------\n",
      "0.24\n",
      "0.24.pcd\n",
      "Layer 0.24 Maximum 1014.0 Minimum 692.0\n",
      "--------------------------------------------------------------------------\n",
      "0.27\n",
      "0.27.pcd\n",
      "Layer 0.27 Maximum 1019.0 Minimum 697.0\n",
      "--------------------------------------------------------------------------\n",
      "0.3\n",
      "0.3.pcd\n",
      "Layer 0.3 Maximum 1043.0 Minimum 692.0\n",
      "--------------------------------------------------------------------------\n",
      "0.33\n",
      "0.33.pcd\n",
      "Layer 0.33 Maximum 1018.0 Minimum 695.0\n",
      "--------------------------------------------------------------------------\n",
      "0.36\n",
      "0.36.pcd\n",
      "Layer 0.36 Maximum 1015.0 Minimum 691.0\n",
      "--------------------------------------------------------------------------\n",
      "0.39\n",
      "0.39.pcd\n",
      "Layer 0.39 Maximum 1024.0 Minimum 689.0\n",
      "--------------------------------------------------------------------------\n",
      "0.42\n",
      "0.42.pcd\n",
      "Layer 0.42 Maximum 1034.0 Minimum 690.0\n",
      "--------------------------------------------------------------------------\n",
      "0.45\n",
      "0.45.pcd\n",
      "Layer 0.45 Maximum 1018.0 Minimum 695.0\n",
      "--------------------------------------------------------------------------\n",
      "0.48\n",
      "0.48.pcd\n",
      "Layer 0.48 Maximum 1032.0 Minimum 687.0\n",
      "--------------------------------------------------------------------------\n",
      "0.51\n",
      "0.51.pcd\n",
      "Layer 0.51 Maximum 1028.0 Minimum 698.0\n",
      "--------------------------------------------------------------------------\n",
      "0.54\n",
      "0.54.pcd\n",
      "Layer 0.54 Maximum 1015.0 Minimum 694.0\n",
      "--------------------------------------------------------------------------\n",
      "0.57\n",
      "0.57.pcd\n",
      "Layer 0.57 Maximum 1016.0 Minimum 692.0\n",
      "--------------------------------------------------------------------------\n",
      "0.6\n",
      "0.6.pcd\n",
      "Layer 0.6 Maximum 1016.0 Minimum 696.0\n",
      "--------------------------------------------------------------------------\n",
      "0.63\n",
      "0.63.pcd\n",
      "Layer 0.63 Maximum 1009.0 Minimum 677.0\n",
      "--------------------------------------------------------------------------\n",
      "0.66\n",
      "0.66.pcd\n",
      "Layer 0.66 Maximum 1018.0 Minimum 683.0\n",
      "--------------------------------------------------------------------------\n",
      "0.69\n",
      "0.69.pcd\n",
      "Layer 0.69 Maximum 1024.0 Minimum 689.0\n",
      "--------------------------------------------------------------------------\n",
      "0.72\n",
      "0.72.pcd\n",
      "Layer 0.72 Maximum 1015.0 Minimum 687.0\n",
      "--------------------------------------------------------------------------\n",
      "0.75\n",
      "0.75.pcd\n",
      "Layer 0.75 Maximum 1003.0 Minimum 699.0\n",
      "--------------------------------------------------------------------------\n",
      "0.78\n",
      "0.78.pcd\n",
      "Layer 0.78 Maximum 1022.0 Minimum 695.0\n",
      "--------------------------------------------------------------------------\n"
     ]
    }
   ],
   "source": [
    "for part in all_parts[:1]:\n",
    "    print(part)\n",
    "    layers = sorted([float(os.path.splitext(l)[0]) for l in os.listdir(parts_folder+part+'/')])\n",
    "    layer_name = 1\n",
    "    for layer in layers[:20]:\n",
    "        print(layer)\n",
    "        \n",
    "        lay_name = str(layer) + '.pcd'\n",
    "        print(str(lay_name))\n",
    "        pcd_load = o3d.io.read_point_cloud(parts_folder+'/'+part+'/'+ lay_name, format='xyz')\n",
    "        data_scan = np.asarray(pcd_load.points)\n",
    "        \n",
    "        \n",
    "        num_rows = 0\n",
    "\n",
    "        y  = [(d[0]*(bit_val)) for d in data_scan[num_rows:,:]]\n",
    "        x  = [(d[1]*(-bit_val)) for d in data_scan[num_rows:,:]]\n",
    "        EM = [d[2] for d in data_scan[num_rows:,:]]\n",
    "        print(\"Layer\", layer, \"Maximum\", max(EM), \"Minimum\", min(EM))\n",
    "        \n",
    "# #        Extracting xyz data points into csv format\n",
    "#         csv_folder = create_folder(result_folder, \"csv_data\", \"{}\".format(part))\n",
    "#         np.savetxt(csv_folder+\"{}_pcd_to_data.csv\".format(layer), data_scan, delimiter=\",\")\n",
    "        \n",
    "#         pcd_plots(x, y, EM, part, layer, 'Batchwise', display='off')\n",
    "        print(\"--------------------------------------------------------------------------\")\n",
    "        layer_name = layer_name+1"
   ]
  },
  {
   "cell_type": "code",
   "execution_count": null,
   "id": "8fc3367c",
   "metadata": {},
   "outputs": [],
   "source": []
  }
 ],
 "metadata": {
  "kernelspec": {
   "display_name": "Python 3 (ipykernel)",
   "language": "python",
   "name": "python3"
  },
  "language_info": {
   "codemirror_mode": {
    "name": "ipython",
    "version": 3
   },
   "file_extension": ".py",
   "mimetype": "text/x-python",
   "name": "python",
   "nbconvert_exporter": "python",
   "pygments_lexer": "ipython3",
   "version": "3.10.9"
  }
 },
 "nbformat": 4,
 "nbformat_minor": 5
}
