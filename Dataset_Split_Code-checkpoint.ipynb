{
 "cells": [
  {
   "cell_type": "code",
   "execution_count": 1,
   "metadata": {},
   "outputs": [],
   "source": [
    "import numpy as np\n",
    "import pandas as pd"
   ]
  },
  {
   "cell_type": "markdown",
   "metadata": {},
   "source": [
    "### Assigning input, and output folder location"
   ]
  },
  {
   "cell_type": "code",
   "execution_count": 2,
   "metadata": {},
   "outputs": [],
   "source": [
    "input_folder = \"C:/RuedeTech-DroneData/input_data_flight/\"\n",
    "output_folder = \"C:/RuedeTech-DroneData/output_data_flight/\"\n",
    "output_folder_flights = \"C:/RuedeTech-DroneData/output_data_flightss/\""
   ]
  },
  {
   "cell_type": "markdown",
   "metadata": {},
   "source": [
    "### Read csv file "
   ]
  },
  {
   "cell_type": "code",
   "execution_count": 3,
   "metadata": {
    "scrolled": true
   },
   "outputs": [
    {
     "name": "stderr",
     "output_type": "stream",
     "text": [
      "C:\\Users\\varsh\\AppData\\Local\\Temp\\ipykernel_24692\\535393828.py:1: DtypeWarning: Columns (25) have mixed types. Specify dtype option on import or set low_memory=False.\n",
      "  data = pd.read_csv(input_folder+'flights.csv')\n"
     ]
    },
    {
     "data": {
      "text/plain": [
       "(257896, 31)"
      ]
     },
     "execution_count": 3,
     "metadata": {},
     "output_type": "execute_result"
    }
   ],
   "source": [
    "data = pd.read_csv(input_folder+'flights.csv')\n",
    "data.head()\n",
    "data.shape\n"
   ]
  },
  {
   "cell_type": "code",
   "execution_count": 4,
   "metadata": {},
   "outputs": [
    {
     "data": {
      "text/plain": [
       "Index(['flight', 'time', 'wind_speed', 'wind_angle', 'battery_voltage',\n",
       "       'battery_current', 'Unnamed: 6', 'position_x', 'position_y',\n",
       "       'position_z', 'orientation_x', 'orientation_y', 'orientation_z',\n",
       "       'orientation_w', 'velocity_x', 'velocity_y', 'velocity_z', 'angular_x',\n",
       "       'angular_y', 'angular_z', 'linear_acceleration_x',\n",
       "       'linear_acceleration_y', 'linear_acceleration_z', 'speed', 'payload',\n",
       "       'altitude', 'date', 'time_day', 'route', 'energy', 'energyh'],\n",
       "      dtype='object')"
      ]
     },
     "execution_count": 4,
     "metadata": {},
     "output_type": "execute_result"
    }
   ],
   "source": [
    "data.columns"
   ]
  },
  {
   "cell_type": "markdown",
   "metadata": {},
   "source": [
    "### Screening flights csv to R1 route"
   ]
  },
  {
   "cell_type": "code",
   "execution_count": 5,
   "metadata": {
    "scrolled": true
   },
   "outputs": [
    {
     "data": {
      "text/plain": [
       "(227551, 31)"
      ]
     },
     "execution_count": 5,
     "metadata": {},
     "output_type": "execute_result"
    }
   ],
   "source": [
    "data_r1 = data.loc[data['route'] == \"R1\"]\n",
    "data_r1.head()\n",
    "data_r1.shape"
   ]
  },
  {
   "cell_type": "markdown",
   "metadata": {},
   "source": [
    "### Converting data to integer data_type"
   ]
  },
  {
   "cell_type": "code",
   "execution_count": 6,
   "metadata": {
    "scrolled": false
   },
   "outputs": [
    {
     "name": "stderr",
     "output_type": "stream",
     "text": [
      "C:\\Users\\varsh\\AppData\\Local\\Temp\\ipykernel_24692\\1520269355.py:1: SettingWithCopyWarning: \n",
      "A value is trying to be set on a copy of a slice from a DataFrame.\n",
      "Try using .loc[row_indexer,col_indexer] = value instead\n",
      "\n",
      "See the caveats in the documentation: https://pandas.pydata.org/pandas-docs/stable/user_guide/indexing.html#returning-a-view-versus-a-copy\n",
      "  data_r1['flight'] = data_r1['flight'].astype(int)\n",
      "C:\\Users\\varsh\\AppData\\Local\\Temp\\ipykernel_24692\\1520269355.py:2: SettingWithCopyWarning: \n",
      "A value is trying to be set on a copy of a slice from a DataFrame.\n",
      "Try using .loc[row_indexer,col_indexer] = value instead\n",
      "\n",
      "See the caveats in the documentation: https://pandas.pydata.org/pandas-docs/stable/user_guide/indexing.html#returning-a-view-versus-a-copy\n",
      "  data_r1['altitude'] = data_r1['altitude'].astype(int)\n",
      "C:\\Users\\varsh\\AppData\\Local\\Temp\\ipykernel_24692\\1520269355.py:3: SettingWithCopyWarning: \n",
      "A value is trying to be set on a copy of a slice from a DataFrame.\n",
      "Try using .loc[row_indexer,col_indexer] = value instead\n",
      "\n",
      "See the caveats in the documentation: https://pandas.pydata.org/pandas-docs/stable/user_guide/indexing.html#returning-a-view-versus-a-copy\n",
      "  data_r1['payload'] = data_r1['payload'].astype(int)\n",
      "C:\\Users\\varsh\\AppData\\Local\\Temp\\ipykernel_24692\\1520269355.py:4: SettingWithCopyWarning: \n",
      "A value is trying to be set on a copy of a slice from a DataFrame.\n",
      "Try using .loc[row_indexer,col_indexer] = value instead\n",
      "\n",
      "See the caveats in the documentation: https://pandas.pydata.org/pandas-docs/stable/user_guide/indexing.html#returning-a-view-versus-a-copy\n",
      "  data_r1['speed'] = data_r1['speed'].astype(int)\n"
     ]
    }
   ],
   "source": [
    "data_r1['flight'] = data_r1['flight'].astype(int)\n",
    "data_r1['altitude'] = data_r1['altitude'].astype(int)\n",
    "data_r1['payload'] = data_r1['payload'].astype(int)\n",
    "data_r1['speed'] = data_r1['speed'].astype(int)"
   ]
  },
  {
   "cell_type": "markdown",
   "metadata": {},
   "source": [
    "### Generating unique values in the list"
   ]
  },
  {
   "cell_type": "code",
   "execution_count": 7,
   "metadata": {},
   "outputs": [
    {
     "data": {
      "text/plain": [
       "(array([  0, 250, 750, 500]),\n",
       " array([ 4,  6, 10, 12,  8]),\n",
       " array([ 25,  50,  75, 100]))"
      ]
     },
     "execution_count": 7,
     "metadata": {},
     "output_type": "execute_result"
    }
   ],
   "source": [
    "data_r1_pay = data_r1['payload'].unique()\n",
    "data_r1_speed = data_r1['speed'].unique()\n",
    "data_r1_alt = data_r1['altitude'].unique()\n",
    "data_r1_pay, data_r1_speed, data_r1_alt"
   ]
  },
  {
   "cell_type": "code",
   "execution_count": 8,
   "metadata": {},
   "outputs": [
    {
     "data": {
      "text/plain": [
       "227551"
      ]
     },
     "execution_count": 8,
     "metadata": {},
     "output_type": "execute_result"
    }
   ],
   "source": [
    "data_r1.shape[0]"
   ]
  },
  {
   "cell_type": "markdown",
   "metadata": {},
   "source": [
    "### Creating csv files according to payload, altitude, speed and flights into output folders"
   ]
  },
  {
   "cell_type": "code",
   "execution_count": 9,
   "metadata": {
    "scrolled": false
   },
   "outputs": [
    {
     "name": "stdout",
     "output_type": "stream",
     "text": [
      "Pay 0 Alt 25 speed 4\n",
      "[8]\n",
      "Pay 0 Alt 25 speed 6\n",
      "[ 10 108 170]\n",
      "Pay 0 Alt 25 speed 10\n",
      "[ 12 146 177]\n",
      "Pay 0 Alt 25 speed 12\n",
      "[ 77 116 171]\n",
      "Pay 0 Alt 25 speed 8\n",
      "[124 203]\n",
      "Pay 0 Alt 50 speed 4\n",
      "[148 233]\n",
      "Pay 0 Alt 50 speed 6\n",
      "[ 78 121 169]\n",
      "Pay 0 Alt 50 speed 10\n",
      "[ 79 117 198 229]\n",
      "Pay 0 Alt 50 speed 12\n",
      "[ 80 139 192]\n",
      "Pay 0 Alt 50 speed 8\n",
      "[119 207 249]\n",
      "Pay 0 Alt 75 speed 4\n",
      "[110 260 263]\n",
      "Pay 0 Alt 75 speed 6\n",
      "[ 81 163 175]\n",
      "Pay 0 Alt 75 speed 10\n",
      "[114 241 262]\n",
      "Pay 0 Alt 75 speed 12\n",
      "[ 83 141 143 186]\n",
      "Pay 0 Alt 75 speed 8\n",
      "[ 82 165 247]\n",
      "Pay 0 Alt 100 speed 4\n",
      "[131 188 237]\n",
      "Pay 0 Alt 100 speed 6\n",
      "[ 84 172 227]\n",
      "Pay 0 Alt 100 speed 10\n",
      "[ 85 164 234]\n",
      "Pay 0 Alt 100 speed 12\n",
      "[ 86 150 194]\n",
      "Pay 0 Alt 100 speed 8\n",
      "[128 176 246]\n",
      "Pay 250 Alt 25 speed 4\n",
      "[ 18 135 202]\n",
      "Pay 250 Alt 25 speed 6\n",
      "[ 17 159 204]\n",
      "Pay 250 Alt 25 speed 10\n",
      "[ 15 120 197]\n",
      "Pay 250 Alt 25 speed 12\n",
      "[ 14 111 187]\n",
      "Pay 250 Alt 25 speed 8\n",
      "[ 16 136 189]\n",
      "Pay 250 Alt 50 speed 4\n",
      "[160 199 258]\n",
      "Pay 250 Alt 50 speed 6\n",
      "[154 181 261]\n",
      "Pay 250 Alt 50 speed 10\n",
      "[ 59 157 185]\n",
      "Pay 250 Alt 50 speed 12\n",
      "[ 23 151 196]\n",
      "Pay 250 Alt 50 speed 8\n",
      "[ 20 127 251]\n",
      "Pay 250 Alt 75 speed 4\n",
      "[125 201 248]\n",
      "Pay 250 Alt 75 speed 6\n",
      "[147 208 257]\n",
      "Pay 250 Alt 75 speed 10\n",
      "[149 168 256]\n",
      "Pay 250 Alt 75 speed 12\n",
      "[ 60 158 174]\n",
      "Pay 250 Alt 75 speed 8\n",
      "[142 206 225]\n",
      "Pay 250 Alt 100 speed 4\n",
      "[ 87 118 210]\n",
      "Pay 250 Alt 100 speed 6\n",
      "[123 173 264]\n",
      "Pay 250 Alt 100 speed 10\n",
      "[153 190 250]\n",
      "Pay 250 Alt 100 speed 12\n",
      "[ 68 113 191]\n",
      "Pay 250 Alt 100 speed 8\n",
      "[ 88 137 195]\n",
      "Pay 750 Alt 25 speed 4\n",
      "[76]\n",
      "Pay 750 Alt 25 speed 6\n",
      "[]\n",
      "Pay 750 Alt 25 speed 10\n",
      "[]\n",
      "Pay 750 Alt 25 speed 12\n",
      "[]\n",
      "Pay 750 Alt 25 speed 8\n",
      "[]\n",
      "Pay 750 Alt 50 speed 4\n",
      "[]\n",
      "Pay 750 Alt 50 speed 6\n",
      "[]\n",
      "Pay 750 Alt 50 speed 10\n",
      "[]\n",
      "Pay 750 Alt 50 speed 12\n",
      "[]\n",
      "Pay 750 Alt 50 speed 8\n",
      "[]\n",
      "Pay 750 Alt 75 speed 4\n",
      "[]\n",
      "Pay 750 Alt 75 speed 6\n",
      "[]\n",
      "Pay 750 Alt 75 speed 10\n",
      "[]\n",
      "Pay 750 Alt 75 speed 12\n",
      "[]\n",
      "Pay 750 Alt 75 speed 8\n",
      "[]\n",
      "Pay 750 Alt 100 speed 4\n",
      "[]\n",
      "Pay 750 Alt 100 speed 6\n",
      "[]\n",
      "Pay 750 Alt 100 speed 10\n",
      "[]\n",
      "Pay 750 Alt 100 speed 12\n",
      "[]\n",
      "Pay 750 Alt 100 speed 8\n",
      "[]\n",
      "Pay 500 Alt 25 speed 4\n",
      "[140 200 243]\n",
      "Pay 500 Alt 25 speed 6\n",
      "[205 230 255]\n",
      "Pay 500 Alt 25 speed 10\n",
      "[167 178 253 276 277]\n",
      "Pay 500 Alt 25 speed 12\n",
      "[ 98 183 235]\n",
      "Pay 500 Alt 25 speed 8\n",
      "[115 267 275]\n",
      "Pay 500 Alt 50 speed 4\n",
      "[ 94 156 193 238]\n",
      "Pay 500 Alt 50 speed 6\n",
      "[ 93 166 209]\n",
      "Pay 500 Alt 50 speed 10\n",
      "[ 95 130 254]\n",
      "Pay 500 Alt 50 speed 12\n",
      "[100 134 236]\n",
      "Pay 500 Alt 50 speed 8\n",
      "[101 144 182]\n",
      "Pay 500 Alt 75 speed 4\n",
      "[ 97 109 239]\n",
      "Pay 500 Alt 75 speed 6\n",
      "[ 96 112 240]\n",
      "Pay 500 Alt 75 speed 10\n",
      "[ 91 122 180]\n",
      "Pay 500 Alt 75 speed 12\n",
      "[ 92 129 252]\n",
      "Pay 500 Alt 75 speed 8\n",
      "[ 99 162 226]\n",
      "Pay 500 Alt 100 speed 4\n",
      "[102 126 184]\n",
      "Pay 500 Alt 100 speed 6\n",
      "[105 145 179]\n",
      "Pay 500 Alt 100 speed 10\n",
      "[106 152 228]\n",
      "Pay 500 Alt 100 speed 12\n",
      "[107 155 232]\n",
      "Pay 500 Alt 100 speed 8\n",
      "[138 231 242]\n"
     ]
    }
   ],
   "source": [
    "for i in range(len(data_r1_pay)):\n",
    "    \n",
    "    for j in range(len(data_r1_alt)):\n",
    "\n",
    "        for k in range(len(data_r1_speed)):\n",
    "            payload_ = data_r1_pay[i]\n",
    "            altitude_ = data_r1_alt[j]\n",
    "            speed_ = data_r1_speed[k]\n",
    "            print(\"Pay\", payload_, \"Alt\", altitude_, \"speed\", speed_)\n",
    "            \n",
    "            new_data = data_r1.loc[(data_r1['payload'] == payload_) & \n",
    "                                   (data_r1['altitude'] == altitude_) & \n",
    "                                   (data_r1['speed'] == speed_)\n",
    "                                  ]\n",
    "            new_data.to_csv(output_folder + \"R1_p{}_a{}_s{}.csv\".format(payload_, altitude_, speed_), index=False)\n",
    "            \n",
    "            new_data_flights = new_data['flight'].unique()\n",
    "            print(new_data_flights)\n",
    "            \n",
    "            for m in range(len(new_data_flights)):\n",
    "                \n",
    "                flights_ = new_data_flights[m]\n",
    "                new_data_flight_csv = new_data.loc[(new_data['flight'] == flights_)]\n",
    "                new_data_flight_csv.to_csv(output_folder_flights + \"R1_p{}_a{}_s{}_f{}.csv\".format(payload_, altitude_, speed_, flights_), \n",
    "                                           index=False)"
   ]
  },
  {
   "cell_type": "code",
   "execution_count": 10,
   "metadata": {},
   "outputs": [],
   "source": []
  },
  {
   "cell_type": "code",
   "execution_count": 11,
   "metadata": {},
   "outputs": [],
   "source": []
  },
  {
   "cell_type": "code",
   "execution_count": null,
   "metadata": {},
   "outputs": [],
   "source": []
  }
 ],
 "metadata": {
  "kernelspec": {
   "display_name": "Python 3 (ipykernel)",
   "language": "python",
   "name": "python3"
  },
  "language_info": {
   "codemirror_mode": {
    "name": "ipython",
    "version": 3
   },
   "file_extension": ".py",
   "mimetype": "text/x-python",
   "name": "python",
   "nbconvert_exporter": "python",
   "pygments_lexer": "ipython3",
   "version": "3.11.3"
  },
  "varInspector": {
   "cols": {
    "lenName": 16,
    "lenType": 16,
    "lenVar": 40
   },
   "kernels_config": {
    "python": {
     "delete_cmd_postfix": "",
     "delete_cmd_prefix": "del ",
     "library": "var_list.py",
     "varRefreshCmd": "print(var_dic_list())"
    },
    "r": {
     "delete_cmd_postfix": ") ",
     "delete_cmd_prefix": "rm(",
     "library": "var_list.r",
     "varRefreshCmd": "cat(var_dic_list()) "
    }
   },
   "types_to_exclude": [
    "module",
    "function",
    "builtin_function_or_method",
    "instance",
    "_Feature"
   ],
   "window_display": false
  }
 },
 "nbformat": 4,
 "nbformat_minor": 4
}
